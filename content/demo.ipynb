{
 "cells": [
  {
   "cell_type": "code",
   "execution_count": 17,
   "id": "16e1fa11",
   "metadata": {},
   "outputs": [
    {
     "data": {
      "application/vnd.jupyter.widget-view+json": {
       "model_id": "883bd49d3d604ba68ef20b90f9e21840",
       "version_major": 2,
       "version_minor": 0
      },
      "text/plain": [
       "interactive(children=(Dropdown(description='Color', index=1, options=('red', 'purple'), value='purple'), Outpu…"
      ]
     },
     "metadata": {},
     "output_type": "display_data"
    }
   ],
   "source": [
    "import pandas as pd\n",
    "import plotly.express as px\n",
    "import ipywidgets as wg\n",
    "\n",
    "df = pd.DataFrame(\n",
    "    data=[\n",
    "        [1, 10, 'purple'],\n",
    "        [2, 20, 'purple'],\n",
    "\n",
    "        [1, 10, 'red'],\n",
    "        [2, 20, 'red'],\n",
    "    ],\n",
    "    columns=['xcol', 'ycol', 'colourselector']\n",
    ")\n",
    "\n",
    "mode_box = wg.Dropdown(options=['red', 'purple'], value='purple', description='Color')\n",
    "\n",
    "def functionplot(datase, col):\n",
    "    \n",
    "    subset  = datase[(datase['colourselector'] == col)]\n",
    "            \n",
    "    fig = px.scatter(\n",
    "        subset, x=\"xcol\", y=\"ycol\", color = 'colourselector', width=500, height=500)\n",
    "        \n",
    "    return fig\n",
    "\n",
    "def interactive_plotter_sca(df):\n",
    "    df_widget = wg.fixed(df)\n",
    "    return wg.interact(functionplot, datase=df_widget, col=mode_box)\n",
    "\n",
    "fig = interactive_plotter_sca(df)"
   ]
  },
  {
   "cell_type": "code",
   "execution_count": null,
   "id": "1b15c814",
   "metadata": {},
   "outputs": [],
   "source": []
  }
 ],
 "metadata": {
  "kernelspec": {
   "display_name": "Python 3 (ipykernel)",
   "language": "python",
   "name": "python3"
  },
  "language_info": {
   "codemirror_mode": {
    "name": "ipython",
    "version": 3
   },
   "file_extension": ".py",
   "mimetype": "text/x-python",
   "name": "python",
   "nbconvert_exporter": "python",
   "pygments_lexer": "ipython3",
   "version": "3.11.5"
  }
 },
 "nbformat": 4,
 "nbformat_minor": 5
}
